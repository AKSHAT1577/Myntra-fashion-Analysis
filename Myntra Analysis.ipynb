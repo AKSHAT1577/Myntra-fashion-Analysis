{
 "cells": [
  {
   "cell_type": "code",
   "execution_count": 4,
   "id": "141a3c18",
   "metadata": {},
   "outputs": [],
   "source": [
    "import pandas as pd\n",
    "import numpy as np\n",
    "import matplotlib.pyplot as plt\n",
    "import seaborn as sns"
   ]
  },
  {
   "cell_type": "code",
   "execution_count": 5,
   "id": "995fda8b",
   "metadata": {},
   "outputs": [],
   "source": [
    "data = pd.read_csv(r'C:\\Users\\Akshat\\.jupyter\\Desktop\\Work place\\POEWR  BI PROJECT\\Myntra report\\myntra_products_catalog.csv')"
   ]
  },
  {
   "cell_type": "code",
   "execution_count": 6,
   "id": "a8a7a39b",
   "metadata": {},
   "outputs": [
    {
     "data": {
      "text/html": [
       "<div>\n",
       "<style scoped>\n",
       "    .dataframe tbody tr th:only-of-type {\n",
       "        vertical-align: middle;\n",
       "    }\n",
       "\n",
       "    .dataframe tbody tr th {\n",
       "        vertical-align: top;\n",
       "    }\n",
       "\n",
       "    .dataframe thead th {\n",
       "        text-align: right;\n",
       "    }\n",
       "</style>\n",
       "<table border=\"1\" class=\"dataframe\">\n",
       "  <thead>\n",
       "    <tr style=\"text-align: right;\">\n",
       "      <th></th>\n",
       "      <th>ProductID</th>\n",
       "      <th>ProductName</th>\n",
       "      <th>ProductBrand</th>\n",
       "      <th>Gender</th>\n",
       "      <th>Price (INR)</th>\n",
       "      <th>NumImages</th>\n",
       "      <th>Description</th>\n",
       "      <th>PrimaryColor</th>\n",
       "    </tr>\n",
       "  </thead>\n",
       "  <tbody>\n",
       "    <tr>\n",
       "      <th>0</th>\n",
       "      <td>10017413</td>\n",
       "      <td>DKNY Unisex Black &amp; Grey Printed Medium Trolle...</td>\n",
       "      <td>DKNY</td>\n",
       "      <td>Unisex</td>\n",
       "      <td>11745</td>\n",
       "      <td>7</td>\n",
       "      <td>Black and grey printed medium trolley bag, sec...</td>\n",
       "      <td>Black</td>\n",
       "    </tr>\n",
       "    <tr>\n",
       "      <th>1</th>\n",
       "      <td>10016283</td>\n",
       "      <td>EthnoVogue Women Beige &amp; Grey Made to Measure ...</td>\n",
       "      <td>EthnoVogue</td>\n",
       "      <td>Women</td>\n",
       "      <td>5810</td>\n",
       "      <td>7</td>\n",
       "      <td>Beige &amp; Grey made to measure kurta with churid...</td>\n",
       "      <td>Beige</td>\n",
       "    </tr>\n",
       "    <tr>\n",
       "      <th>2</th>\n",
       "      <td>10009781</td>\n",
       "      <td>SPYKAR Women Pink Alexa Super Skinny Fit High-...</td>\n",
       "      <td>SPYKAR</td>\n",
       "      <td>Women</td>\n",
       "      <td>899</td>\n",
       "      <td>7</td>\n",
       "      <td>Pink coloured wash 5-pocket high-rise cropped ...</td>\n",
       "      <td>Pink</td>\n",
       "    </tr>\n",
       "    <tr>\n",
       "      <th>3</th>\n",
       "      <td>10015921</td>\n",
       "      <td>Raymond Men Blue Self-Design Single-Breasted B...</td>\n",
       "      <td>Raymond</td>\n",
       "      <td>Men</td>\n",
       "      <td>5599</td>\n",
       "      <td>5</td>\n",
       "      <td>Blue self-design bandhgala suitBlue self-desig...</td>\n",
       "      <td>Blue</td>\n",
       "    </tr>\n",
       "    <tr>\n",
       "      <th>4</th>\n",
       "      <td>10017833</td>\n",
       "      <td>Parx Men Brown &amp; Off-White Slim Fit Printed Ca...</td>\n",
       "      <td>Parx</td>\n",
       "      <td>Men</td>\n",
       "      <td>759</td>\n",
       "      <td>5</td>\n",
       "      <td>Brown and off-white printed casual shirt, has ...</td>\n",
       "      <td>White</td>\n",
       "    </tr>\n",
       "    <tr>\n",
       "      <th>...</th>\n",
       "      <td>...</td>\n",
       "      <td>...</td>\n",
       "      <td>...</td>\n",
       "      <td>...</td>\n",
       "      <td>...</td>\n",
       "      <td>...</td>\n",
       "      <td>...</td>\n",
       "      <td>...</td>\n",
       "    </tr>\n",
       "    <tr>\n",
       "      <th>12486</th>\n",
       "      <td>10262843</td>\n",
       "      <td>Pepe Jeans Men Black Hammock Slim Fit Low-Rise...</td>\n",
       "      <td>Pepe Jeans</td>\n",
       "      <td>Men</td>\n",
       "      <td>1299</td>\n",
       "      <td>7</td>\n",
       "      <td>Black dark wash 5-pocket low-rise jeans, clean...</td>\n",
       "      <td>Black</td>\n",
       "    </tr>\n",
       "    <tr>\n",
       "      <th>12487</th>\n",
       "      <td>10261721</td>\n",
       "      <td>Mochi Women Gold-Toned Solid Heels</td>\n",
       "      <td>Mochi</td>\n",
       "      <td>Women</td>\n",
       "      <td>1990</td>\n",
       "      <td>5</td>\n",
       "      <td>A pair of gold-toned open toe heels, has regul...</td>\n",
       "      <td>Gold</td>\n",
       "    </tr>\n",
       "    <tr>\n",
       "      <th>12488</th>\n",
       "      <td>10261607</td>\n",
       "      <td>612 league Girls Navy Blue &amp; White Printed Reg...</td>\n",
       "      <td>612 league</td>\n",
       "      <td>Girls</td>\n",
       "      <td>602</td>\n",
       "      <td>4</td>\n",
       "      <td>Navy Blue and White printed mid-rise denim sho...</td>\n",
       "      <td>Blue</td>\n",
       "    </tr>\n",
       "    <tr>\n",
       "      <th>12489</th>\n",
       "      <td>10266621</td>\n",
       "      <td>Bvlgari Men Aqva Pour Homme Marine Eau de Toil...</td>\n",
       "      <td>Bvlgari</td>\n",
       "      <td>Men</td>\n",
       "      <td>8950</td>\n",
       "      <td>2</td>\n",
       "      <td>Bvlgari Men Aqva Pour Homme Marine Eau de Toil...</td>\n",
       "      <td>NaN</td>\n",
       "    </tr>\n",
       "    <tr>\n",
       "      <th>12490</th>\n",
       "      <td>10265199</td>\n",
       "      <td>Pepe Jeans Men Black &amp; Grey Striped Polo Colla...</td>\n",
       "      <td>Pepe Jeans</td>\n",
       "      <td>Men</td>\n",
       "      <td>799</td>\n",
       "      <td>5</td>\n",
       "      <td>Black and grey striped T-shirt, has a polo col...</td>\n",
       "      <td>Black</td>\n",
       "    </tr>\n",
       "  </tbody>\n",
       "</table>\n",
       "<p>12491 rows × 8 columns</p>\n",
       "</div>"
      ],
      "text/plain": [
       "       ProductID                                        ProductName  \\\n",
       "0       10017413  DKNY Unisex Black & Grey Printed Medium Trolle...   \n",
       "1       10016283  EthnoVogue Women Beige & Grey Made to Measure ...   \n",
       "2       10009781  SPYKAR Women Pink Alexa Super Skinny Fit High-...   \n",
       "3       10015921  Raymond Men Blue Self-Design Single-Breasted B...   \n",
       "4       10017833  Parx Men Brown & Off-White Slim Fit Printed Ca...   \n",
       "...          ...                                                ...   \n",
       "12486   10262843  Pepe Jeans Men Black Hammock Slim Fit Low-Rise...   \n",
       "12487   10261721                 Mochi Women Gold-Toned Solid Heels   \n",
       "12488   10261607  612 league Girls Navy Blue & White Printed Reg...   \n",
       "12489   10266621  Bvlgari Men Aqva Pour Homme Marine Eau de Toil...   \n",
       "12490   10265199  Pepe Jeans Men Black & Grey Striped Polo Colla...   \n",
       "\n",
       "      ProductBrand  Gender  Price (INR)  NumImages  \\\n",
       "0             DKNY  Unisex        11745          7   \n",
       "1       EthnoVogue   Women         5810          7   \n",
       "2           SPYKAR   Women          899          7   \n",
       "3          Raymond     Men         5599          5   \n",
       "4             Parx     Men          759          5   \n",
       "...            ...     ...          ...        ...   \n",
       "12486   Pepe Jeans     Men         1299          7   \n",
       "12487        Mochi   Women         1990          5   \n",
       "12488   612 league   Girls          602          4   \n",
       "12489      Bvlgari     Men         8950          2   \n",
       "12490   Pepe Jeans     Men          799          5   \n",
       "\n",
       "                                             Description PrimaryColor  \n",
       "0      Black and grey printed medium trolley bag, sec...        Black  \n",
       "1      Beige & Grey made to measure kurta with churid...        Beige  \n",
       "2      Pink coloured wash 5-pocket high-rise cropped ...         Pink  \n",
       "3      Blue self-design bandhgala suitBlue self-desig...         Blue  \n",
       "4      Brown and off-white printed casual shirt, has ...        White  \n",
       "...                                                  ...          ...  \n",
       "12486  Black dark wash 5-pocket low-rise jeans, clean...        Black  \n",
       "12487  A pair of gold-toned open toe heels, has regul...         Gold  \n",
       "12488  Navy Blue and White printed mid-rise denim sho...         Blue  \n",
       "12489  Bvlgari Men Aqva Pour Homme Marine Eau de Toil...          NaN  \n",
       "12490  Black and grey striped T-shirt, has a polo col...        Black  \n",
       "\n",
       "[12491 rows x 8 columns]"
      ]
     },
     "execution_count": 6,
     "metadata": {},
     "output_type": "execute_result"
    }
   ],
   "source": [
    "data"
   ]
  },
  {
   "cell_type": "code",
   "execution_count": 7,
   "id": "a22e76f5",
   "metadata": {},
   "outputs": [
    {
     "name": "stdout",
     "output_type": "stream",
     "text": [
      "<class 'pandas.core.frame.DataFrame'>\n",
      "RangeIndex: 12491 entries, 0 to 12490\n",
      "Data columns (total 8 columns):\n",
      " #   Column        Non-Null Count  Dtype \n",
      "---  ------        --------------  ----- \n",
      " 0   ProductID     12491 non-null  int64 \n",
      " 1   ProductName   12491 non-null  object\n",
      " 2   ProductBrand  12491 non-null  object\n",
      " 3   Gender        12491 non-null  object\n",
      " 4   Price (INR)   12491 non-null  int64 \n",
      " 5   NumImages     12491 non-null  int64 \n",
      " 6   Description   12491 non-null  object\n",
      " 7   PrimaryColor  11597 non-null  object\n",
      "dtypes: int64(3), object(5)\n",
      "memory usage: 780.8+ KB\n"
     ]
    }
   ],
   "source": [
    "data.info()"
   ]
  },
  {
   "cell_type": "code",
   "execution_count": 8,
   "id": "6318fee2",
   "metadata": {},
   "outputs": [
    {
     "data": {
      "text/plain": [
       "(12491, 8)"
      ]
     },
     "execution_count": 8,
     "metadata": {},
     "output_type": "execute_result"
    }
   ],
   "source": [
    "data.shape"
   ]
  },
  {
   "cell_type": "code",
   "execution_count": 9,
   "id": "6321934c",
   "metadata": {},
   "outputs": [
    {
     "data": {
      "text/plain": [
       "ProductID        int64\n",
       "ProductName     object\n",
       "ProductBrand    object\n",
       "Gender          object\n",
       "Price (INR)      int64\n",
       "NumImages        int64\n",
       "Description     object\n",
       "PrimaryColor    object\n",
       "dtype: object"
      ]
     },
     "execution_count": 9,
     "metadata": {},
     "output_type": "execute_result"
    }
   ],
   "source": [
    "data.dtypes"
   ]
  },
  {
   "cell_type": "code",
   "execution_count": 10,
   "id": "f1476134",
   "metadata": {},
   "outputs": [
    {
     "data": {
      "text/plain": [
       "0"
      ]
     },
     "execution_count": 10,
     "metadata": {},
     "output_type": "execute_result"
    }
   ],
   "source": [
    "data.duplicated().sum()"
   ]
  },
  {
   "cell_type": "code",
   "execution_count": 11,
   "id": "36f0ac39",
   "metadata": {},
   "outputs": [
    {
     "data": {
      "text/plain": [
       "ProductID         0\n",
       "ProductName       0\n",
       "ProductBrand      0\n",
       "Gender            0\n",
       "Price (INR)       0\n",
       "NumImages         0\n",
       "Description       0\n",
       "PrimaryColor    894\n",
       "dtype: int64"
      ]
     },
     "execution_count": 11,
     "metadata": {},
     "output_type": "execute_result"
    }
   ],
   "source": [
    "data.isnull().sum()"
   ]
  },
  {
   "cell_type": "markdown",
   "id": "321df01b",
   "metadata": {},
   "source": [
    "#  Primary Color is only column with null values."
   ]
  },
  {
   "cell_type": "markdown",
   "id": "d3da668d",
   "metadata": {},
   "source": [
    "# Filling null values .  "
   ]
  },
  {
   "cell_type": "code",
   "execution_count": 12,
   "id": "6a9de477",
   "metadata": {},
   "outputs": [],
   "source": [
    "data['PrimaryColor'].fillna('Other', inplace=True)"
   ]
  },
  {
   "cell_type": "markdown",
   "id": "60b0e0db",
   "metadata": {},
   "source": [
    "# Removing Leading spaces from PrimaryColor Column."
   ]
  },
  {
   "cell_type": "code",
   "execution_count": 13,
   "id": "d61c0a50",
   "metadata": {},
   "outputs": [],
   "source": [
    "data['PrimaryColor'] = data['PrimaryColor'].str.lstrip()"
   ]
  },
  {
   "cell_type": "code",
   "execution_count": 14,
   "id": "f2d5bbb4",
   "metadata": {},
   "outputs": [
    {
     "data": {
      "text/html": [
       "<div>\n",
       "<style scoped>\n",
       "    .dataframe tbody tr th:only-of-type {\n",
       "        vertical-align: middle;\n",
       "    }\n",
       "\n",
       "    .dataframe tbody tr th {\n",
       "        vertical-align: top;\n",
       "    }\n",
       "\n",
       "    .dataframe thead th {\n",
       "        text-align: right;\n",
       "    }\n",
       "</style>\n",
       "<table border=\"1\" class=\"dataframe\">\n",
       "  <thead>\n",
       "    <tr style=\"text-align: right;\">\n",
       "      <th></th>\n",
       "      <th>ProductID</th>\n",
       "      <th>ProductName</th>\n",
       "      <th>ProductBrand</th>\n",
       "      <th>Gender</th>\n",
       "      <th>Price (INR)</th>\n",
       "      <th>NumImages</th>\n",
       "      <th>Description</th>\n",
       "      <th>PrimaryColor</th>\n",
       "    </tr>\n",
       "  </thead>\n",
       "  <tbody>\n",
       "    <tr>\n",
       "      <th>0</th>\n",
       "      <td>10017413</td>\n",
       "      <td>DKNY Unisex Black &amp; Grey Printed Medium Trolle...</td>\n",
       "      <td>DKNY</td>\n",
       "      <td>Unisex</td>\n",
       "      <td>11745</td>\n",
       "      <td>7</td>\n",
       "      <td>Black and grey printed medium trolley bag, sec...</td>\n",
       "      <td>Black</td>\n",
       "    </tr>\n",
       "    <tr>\n",
       "      <th>1</th>\n",
       "      <td>10016283</td>\n",
       "      <td>EthnoVogue Women Beige &amp; Grey Made to Measure ...</td>\n",
       "      <td>EthnoVogue</td>\n",
       "      <td>Women</td>\n",
       "      <td>5810</td>\n",
       "      <td>7</td>\n",
       "      <td>Beige &amp; Grey made to measure kurta with churid...</td>\n",
       "      <td>Beige</td>\n",
       "    </tr>\n",
       "    <tr>\n",
       "      <th>2</th>\n",
       "      <td>10009781</td>\n",
       "      <td>SPYKAR Women Pink Alexa Super Skinny Fit High-...</td>\n",
       "      <td>SPYKAR</td>\n",
       "      <td>Women</td>\n",
       "      <td>899</td>\n",
       "      <td>7</td>\n",
       "      <td>Pink coloured wash 5-pocket high-rise cropped ...</td>\n",
       "      <td>Pink</td>\n",
       "    </tr>\n",
       "    <tr>\n",
       "      <th>3</th>\n",
       "      <td>10015921</td>\n",
       "      <td>Raymond Men Blue Self-Design Single-Breasted B...</td>\n",
       "      <td>Raymond</td>\n",
       "      <td>Men</td>\n",
       "      <td>5599</td>\n",
       "      <td>5</td>\n",
       "      <td>Blue self-design bandhgala suitBlue self-desig...</td>\n",
       "      <td>Blue</td>\n",
       "    </tr>\n",
       "    <tr>\n",
       "      <th>4</th>\n",
       "      <td>10017833</td>\n",
       "      <td>Parx Men Brown &amp; Off-White Slim Fit Printed Ca...</td>\n",
       "      <td>Parx</td>\n",
       "      <td>Men</td>\n",
       "      <td>759</td>\n",
       "      <td>5</td>\n",
       "      <td>Brown and off-white printed casual shirt, has ...</td>\n",
       "      <td>White</td>\n",
       "    </tr>\n",
       "    <tr>\n",
       "      <th>...</th>\n",
       "      <td>...</td>\n",
       "      <td>...</td>\n",
       "      <td>...</td>\n",
       "      <td>...</td>\n",
       "      <td>...</td>\n",
       "      <td>...</td>\n",
       "      <td>...</td>\n",
       "      <td>...</td>\n",
       "    </tr>\n",
       "    <tr>\n",
       "      <th>12486</th>\n",
       "      <td>10262843</td>\n",
       "      <td>Pepe Jeans Men Black Hammock Slim Fit Low-Rise...</td>\n",
       "      <td>Pepe Jeans</td>\n",
       "      <td>Men</td>\n",
       "      <td>1299</td>\n",
       "      <td>7</td>\n",
       "      <td>Black dark wash 5-pocket low-rise jeans, clean...</td>\n",
       "      <td>Black</td>\n",
       "    </tr>\n",
       "    <tr>\n",
       "      <th>12487</th>\n",
       "      <td>10261721</td>\n",
       "      <td>Mochi Women Gold-Toned Solid Heels</td>\n",
       "      <td>Mochi</td>\n",
       "      <td>Women</td>\n",
       "      <td>1990</td>\n",
       "      <td>5</td>\n",
       "      <td>A pair of gold-toned open toe heels, has regul...</td>\n",
       "      <td>Gold</td>\n",
       "    </tr>\n",
       "    <tr>\n",
       "      <th>12488</th>\n",
       "      <td>10261607</td>\n",
       "      <td>612 league Girls Navy Blue &amp; White Printed Reg...</td>\n",
       "      <td>612 league</td>\n",
       "      <td>Girls</td>\n",
       "      <td>602</td>\n",
       "      <td>4</td>\n",
       "      <td>Navy Blue and White printed mid-rise denim sho...</td>\n",
       "      <td>Blue</td>\n",
       "    </tr>\n",
       "    <tr>\n",
       "      <th>12489</th>\n",
       "      <td>10266621</td>\n",
       "      <td>Bvlgari Men Aqva Pour Homme Marine Eau de Toil...</td>\n",
       "      <td>Bvlgari</td>\n",
       "      <td>Men</td>\n",
       "      <td>8950</td>\n",
       "      <td>2</td>\n",
       "      <td>Bvlgari Men Aqva Pour Homme Marine Eau de Toil...</td>\n",
       "      <td>Other</td>\n",
       "    </tr>\n",
       "    <tr>\n",
       "      <th>12490</th>\n",
       "      <td>10265199</td>\n",
       "      <td>Pepe Jeans Men Black &amp; Grey Striped Polo Colla...</td>\n",
       "      <td>Pepe Jeans</td>\n",
       "      <td>Men</td>\n",
       "      <td>799</td>\n",
       "      <td>5</td>\n",
       "      <td>Black and grey striped T-shirt, has a polo col...</td>\n",
       "      <td>Black</td>\n",
       "    </tr>\n",
       "  </tbody>\n",
       "</table>\n",
       "<p>12491 rows × 8 columns</p>\n",
       "</div>"
      ],
      "text/plain": [
       "       ProductID                                        ProductName  \\\n",
       "0       10017413  DKNY Unisex Black & Grey Printed Medium Trolle...   \n",
       "1       10016283  EthnoVogue Women Beige & Grey Made to Measure ...   \n",
       "2       10009781  SPYKAR Women Pink Alexa Super Skinny Fit High-...   \n",
       "3       10015921  Raymond Men Blue Self-Design Single-Breasted B...   \n",
       "4       10017833  Parx Men Brown & Off-White Slim Fit Printed Ca...   \n",
       "...          ...                                                ...   \n",
       "12486   10262843  Pepe Jeans Men Black Hammock Slim Fit Low-Rise...   \n",
       "12487   10261721                 Mochi Women Gold-Toned Solid Heels   \n",
       "12488   10261607  612 league Girls Navy Blue & White Printed Reg...   \n",
       "12489   10266621  Bvlgari Men Aqva Pour Homme Marine Eau de Toil...   \n",
       "12490   10265199  Pepe Jeans Men Black & Grey Striped Polo Colla...   \n",
       "\n",
       "      ProductBrand  Gender  Price (INR)  NumImages  \\\n",
       "0             DKNY  Unisex        11745          7   \n",
       "1       EthnoVogue   Women         5810          7   \n",
       "2           SPYKAR   Women          899          7   \n",
       "3          Raymond     Men         5599          5   \n",
       "4             Parx     Men          759          5   \n",
       "...            ...     ...          ...        ...   \n",
       "12486   Pepe Jeans     Men         1299          7   \n",
       "12487        Mochi   Women         1990          5   \n",
       "12488   612 league   Girls          602          4   \n",
       "12489      Bvlgari     Men         8950          2   \n",
       "12490   Pepe Jeans     Men          799          5   \n",
       "\n",
       "                                             Description PrimaryColor  \n",
       "0      Black and grey printed medium trolley bag, sec...        Black  \n",
       "1      Beige & Grey made to measure kurta with churid...        Beige  \n",
       "2      Pink coloured wash 5-pocket high-rise cropped ...         Pink  \n",
       "3      Blue self-design bandhgala suitBlue self-desig...         Blue  \n",
       "4      Brown and off-white printed casual shirt, has ...        White  \n",
       "...                                                  ...          ...  \n",
       "12486  Black dark wash 5-pocket low-rise jeans, clean...        Black  \n",
       "12487  A pair of gold-toned open toe heels, has regul...         Gold  \n",
       "12488  Navy Blue and White printed mid-rise denim sho...         Blue  \n",
       "12489  Bvlgari Men Aqva Pour Homme Marine Eau de Toil...        Other  \n",
       "12490  Black and grey striped T-shirt, has a polo col...        Black  \n",
       "\n",
       "[12491 rows x 8 columns]"
      ]
     },
     "execution_count": 14,
     "metadata": {},
     "output_type": "execute_result"
    }
   ],
   "source": [
    "data"
   ]
  },
  {
   "cell_type": "markdown",
   "id": "b9eb1f38",
   "metadata": {},
   "source": [
    "# Checkout Different Brands available."
   ]
  },
  {
   "cell_type": "code",
   "execution_count": 15,
   "id": "1c921bf4",
   "metadata": {},
   "outputs": [
    {
     "data": {
      "text/plain": [
       "array(['DKNY', 'EthnoVogue', 'SPYKAR', 'Raymond', 'Parx', 'SHOWOFF',\n",
       "       'Kenneth Cole', 'Police', 'Vishudh', 'Being Human', 'Homesake',\n",
       "       'SEJ by Nisha Gupta', 'YAK YAK', 'PARFAIT', 'Michael Kors',\n",
       "       'HIGHLANDER', 'JEWEL JUNCTION', 'ID', 'Story@home',\n",
       "       'Gini and Jony', 'Sera', 'AccessHer', 'Alcis',\n",
       "       'Difference of Opinion', 'Tokyo Talkies', 'ANNA SUI',\n",
       "       'her by invictus', 'Soie', 'Lara Karen', 'Urban Dog', 'ahilya',\n",
       "       'VASTRAMAY', 'Campus Sutra', 'FIDO DIDO', 'MIAH Decor', 'BuckleUp',\n",
       "       'Peter England', 'AIGNER', 'Lady Lyka', 'Park Avenue', 'Roadster',\n",
       "       'U.S. Polo Assn. Denim Co.', 'Sweet Dreams', 'Kazo', 'Stylo Bug',\n",
       "       'Bvlgari', 'Qraa Men', 'GAS', 'WITH', 'ZUSH', 'JBN Creation',\n",
       "       'U.S. Polo Assn. Kids', 'DressBerry', 'ColorPlus', 'Lakme',\n",
       "       'Allen Solly Woman', 'Palm Tree', 'Arrow', 'DAVID BECKHAM',\n",
       "       'MANGO', 'Carrera', 'ROMEE', 'TAYHAA', 'Ishin', 'Shoe Couture',\n",
       "       'HARBORNBAY', 'Keds', 'Rozia', 'Aj DEZInES', 'Monte Carlo', 'even',\n",
       "       'ether', 'Crimsoune Club', 'Russell Athletic', 'MIMOSA', 'Puma',\n",
       "       'Blackberrys', 'Playdate', 'Rocia', 'Marvel by Wear Your Mind',\n",
       "       'Annabelle by Pantaloons', 'berrytree', 'SIMON CARTER LONDON',\n",
       "       'Beli', 'Nautica', 'Jn Joy', 'THE SILHOUETTE STORE', 'Xpose',\n",
       "       'MBE', 'Mast & Harbour', 'JC Collection', 'GUESS', 'NEUDIS',\n",
       "       'StyleStone', 'SASSAFRAS', 'United Colors of Benetton', 'VLCC',\n",
       "       'Kook N Keech Disney', 'Bubblegummers', 'Hoopers',\n",
       "       'Peter England Casuals', 'Honey by Pantaloons', 'Pink Cow',\n",
       "       'DOROTHY PERKINS', 'Crew STREET', 'Bhama Couture', 'Zippo',\n",
       "       'Daffodils', 'aramis', 'C9 AIRWEAR', 'Oxolloxo', 'Soumya', 'Crocs',\n",
       "       'Carlton London', 'HERE&NOW', 'French Connection', 'Next Look',\n",
       "       'XYXX', 'shaze', 'Bitiya by Bhama', 'Geox', 'Tulsattva',\n",
       "       'ExclusiveLane', 'SHISEIDO', 'MSC', 'Anekaant', 'Innisfree',\n",
       "       'Wintage', 'LOCOMOTIVE', 'Bene Kleed', 'Varanga',\n",
       "       'HRX by Hrithik Roshan', 'Avira Home', 'Force 10', 'maxima',\n",
       "       'Aapno Rajasthan', 'Fortune', 'Moedbuille', 'Blue Saint', 'MASPAR',\n",
       "       'W', 'SCORPIUS', 'Ecko Unltd', 'BERING', 'Healers', 'Kvsfab',\n",
       "       'MOVADO', 'CINOCCI', 'Mitera', 'Harvard', 'Ojjasvi', 'Wild stone',\n",
       "       'AVANT-GARDE PARIS', 'Gliders', 'U&F', 'Abhishti', 'Dreamscape',\n",
       "       'OddCroft', 'Flying Machine', 'IT luggage', 'Nike', 'One Friday',\n",
       "       'Indibelle', 'Dynamocks', 'Arrow New York', 'Titan', 'Zoop',\n",
       "       'Levis', 'IVOC', 'Athena', 'Elizabeth Arden', 'Arrow Sport',\n",
       "       'Red Tape', 'PANAHI', 'Veni Vidi Vici', 'CODE by Lifestyle',\n",
       "       'Fame Forever by Lifestyle', 'Sonata', 'Yuris', 'Sherrif Shoes',\n",
       "       'TIMESMITH', 'Cherry Crumble', 'Senorita', 'CHUTPUT',\n",
       "       'Slumber Jill', 'Metro', 'Marks & Spencer', 'Fastrack',\n",
       "       'DODO & MOA', 'FabSeasons', 'Shaily', 'Mirchi Fashion',\n",
       "       'Sergio Tacchini', 'Janasya', 'Bossini', 'Rajnandini',\n",
       "       'Call It Spring', 'Coolers', 'Chhabra 555', 'LA LOFT', 'Cottinfab',\n",
       "       'Calvin Klein', 'Liberty', 'IMYOUNG', 'CLAY CRAFT',\n",
       "       'Crunchy Fashion', 'Respiro', 'trueBrowns', 'Trend Arrest',\n",
       "       'Besiva', 'INCOLOR', 'Kraus Jeans', 'RICHARD PARKER by Pantaloons',\n",
       "       'Mali Fionna', 'Kryptic', 'San Frissco', 'You Got Plan B',\n",
       "       'The Kaftan Company', 'Simply', 'Infuzze', 'Sir Corbett',\n",
       "       'HOME DECOR INDIA', 'Vero Moda', 'Be Indi', 'Da Intimo', 'Camey',\n",
       "       'Solemio', 'MsFQ', 'Forever New', 'Killer', 'AURELIA',\n",
       "       'Miss Chase', 'Saadgi', 'Lee Cooper', 'Foolzy', 'ZHEIA',\n",
       "       'Friskers', 'UCLA', 'Genie', 'Femmora', 'Fos Lighting',\n",
       "       'FirstClap', 'Clovia', 'Style Quotient', 'Rajasthan Decor',\n",
       "       'SG YUVRAJ', 'URBAN TRIBE', 'CASIO', 'VRINDA', 'Lady Stark',\n",
       "       'Newton', 'Bodycare', 'Alvaro Castagnino', 'Organic Harvest',\n",
       "       'Campus', 'Free Authority', 'Dennmarks', 'Voylla', 'Wish Karo',\n",
       "       'MBOSS', 'Mochi', 'ELLE', 'OBSESSIONS', 'Living Essence',\n",
       "       'GIORDANO', 'Hi RELs', 'DDecor', 'INVICTUS', 'Evoke 1899',\n",
       "       'Newport', 'Schwarzkopf PROFESSIONAL', 'Louis Philippe', 'PANIT',\n",
       "       'SELECTED', 'SOJANYA', 'Sangria', 'Divine Casa', 'Unravel India',\n",
       "       'Steenbok', 'Belle Fille', 'Kittens', 'Slub', 'Blissta', 'Alena',\n",
       "       'SWHF', 'JUMP USA', 'St. Ives', 'FabAlley', 'Nucleus',\n",
       "       'Home Sparkle', 'shiloh', 'Allen Solly', 'KLEIO', 'Maniac',\n",
       "       'Globus', 'Fourwalls', 'AKKRITI BY PANTALOONS', 'Genius',\n",
       "       'Bohemia Crystal', 'EQUINOX', 'Zink London', 'YASH GALLERY',\n",
       "       'Sparx', 'Van Heusen', 'YK', 'Blue Giraffe', 'Silvermerc Designs',\n",
       "       'Black coffee', 'Jacques Lemans', 'ZIYAA',\n",
       "       'SKULT by Shahid Kapoor', 'PERFKT-U', 'Zeal', 'Cortina', 'plusS',\n",
       "       'V Dot', 'Shoetopia', 'Eavan', 'Masch Sports', 'Devis', 'Namyaa',\n",
       "       'ONLY', 'Eske', 'MIWAY', 'Smiley World', 'Maserati', 'Archies',\n",
       "       'Marie Claire', 'Chumbak', 'Aber & Q', 'People', 'GMF', 'ABELINO',\n",
       "       'COVER STORY', 'Karmic Vision', 'Bonjour', 'Deco Window', 'ADIVA',\n",
       "       'Latin Quarters', 'Moda Rapido', 'Indian Terrain', 'RARE', 'SOLES',\n",
       "       'Lavie', 'Truffle Collection', 'GAP', 'KARATCART', 'Priyaasi',\n",
       "       'Mine4Nine', 'CHROME & CORAL', 'FAUSTO',\n",
       "       'ADORN by Nikita Ladiwala', 'Hancock', 'Calvin Klein Jeans',\n",
       "       'Secret Temptation', 'HEATWAVE', 'BownBee', 'Baggit', 'Force NXT',\n",
       "       'URBANE', 'Canary London', 'Jack & Jones', 'fancy mart',\n",
       "       'ADORENITE', 'Hypernation', 'Pantaloons Junior',\n",
       "       'Minions by Kook N Keech', 'Caprese', 'SUITLTD', 'Harpa', 'Taavi',\n",
       "       'Geroo Jaipur', 'Bamboo Tree Jewels', 'Kappa', 'Sher Singh',\n",
       "       'Morpheme Remedies', 'KiddoPanti', 'ANTS', 'Allen Cooper',\n",
       "       'Pure Home and Living', 'ComicSense.xyz', 'Louis Philippe Sport',\n",
       "       'Monrow', 'breya', 'RANGMANCH BY PANTALOONS', 'Wonder Woman',\n",
       "       'Melange by Lifestyle', 'CERIZ', 'Eego Italy', 'Knotyy', 'mf',\n",
       "       'Chemistry', 'TREEMODA', 'Chambor', 'OOMPH', 'KazarMax', 'Chkokko',\n",
       "       'Duke', 'Club York', 'BBLUNT', 'Jewels Galaxy', 'Molly & Michel',\n",
       "       'The Beauty Co.', 'Libas', 'Pipa Bella', 'FOSH', 'Freehand',\n",
       "       'Ed Hardy', 'Aditi Wasan', 'Akiva', 'Franco Leone', 'Mufti',\n",
       "       '7Rainbow', 'beevee', 'Yellow Jeans', 'Soludos', 'Tresmode',\n",
       "       'bigbanana', 'Rex Straut Jeans', 'hummel', 'E2O',\n",
       "       'CAVALLO by Linen Club', 'Tommy Hilfiger', 'PRESTO', 'Tistabene',\n",
       "       'boAt', 'DENNISON', 'U.S. Polo Assn.', \"Kurti's by Menka\",\n",
       "       'Saree mall', 'Forca by Lifestyle', 'VALIOSAA',\n",
       "       'Ginger by Lifestyle', 'Iti', 'Stylee LIFESTYLE', 'JAINISH',\n",
       "       'Cation', 'WROGN', 'GODS', 'Disney by Wear Your Mind',\n",
       "       'Calvin Klein Underwear', 'Ayesha', 'Woodland', 'INDYA',\n",
       "       'meriggiare', 'BIANCA', 'Kook N Keech Marvel', 'Just Wow',\n",
       "       'Golden Peacock', 'Rosaline', 'Wildcraft', 'Rubans',\n",
       "       'Zaveri Pearls', 'CUTECUMBER', 'HAMMER', 'PrettyCat',\n",
       "       'Johnny Bravo by Kook N Keech', 'Zivame', 'Kook N Keech Garfield',\n",
       "       'Tissu', 'Turkish Bath', 'Nature Casuals', 'Unshaven',\n",
       "       'GIO COLLECTION', 'YWC', 'Kraft Cellar', 'Saral Home',\n",
       "       'justpeachy', 'GERUA', 'Skechers', 'Studio Voylla',\n",
       "       'Bruno Manetti', 'Invincible', 'Global Desi', 'yelloe',\n",
       "       'American Crew', 'Blisscovered', 'Alina decor', 'MANOHARI',\n",
       "       'Aujjessa', 't-base', 'NBA', 'RUF & TUF', 'SPRAY GROUND',\n",
       "       'UNKNOWN by Ayesha', 'WILD WEST', 'Pure Play', 'PUMA Motorsport',\n",
       "       '20Dresses', 'Enamor', 'Aerosoles', 'Garmin', 'Street Style Store',\n",
       "       'Alom', 'DOT & KEY', 'pinwheel', 'Lotto', 'IZOD', 'Ruosh',\n",
       "       'Aarika', 'Envy', 'Reebok Classic', 'FEVER', 'Madame',\n",
       "       '612 league', 'Tossido', 'WISSTLER', 'AHIKA', 'Jompers', 'Yuuki',\n",
       "       'Ahalyaa', 'Z-ZOOM', 'Van Heusen Woman', 'Blacksmith', 'fungus',\n",
       "       'Naari', 'Van Heusen Sport', 'Lady Love', 'NIZA', 'Saint G',\n",
       "       'HIROLAS', 'The Pink Moon', 'MISH', 'Vozaf',\n",
       "       'Louis Philippe Jeans', 'Indo Era', 'CALFNERO',\n",
       "       'The House of Tara', 'Kids Ville', 'The Chennai Silks', 'Superdry',\n",
       "       'Fox', 'Anouk', 'OFF LIMITS', 'Frozen', 'DIXCY SCOTT', 'BEARDO',\n",
       "       'Sherlock', 'FS Mini Klub', 'De Moza', 'VarEesha', 'Zelocity',\n",
       "       'Peanuts', 'Denizen From Levis', 'Ferraiolo', 'Yaadleen',\n",
       "       'Peter England Elite', 'SEIKO', 'TALES & STORIES',\n",
       "       'Daily Life Forever52', 'The Vanca', 'AND', 'The Indian Garage Co',\n",
       "       'Voyage', 'Reebok', 'SCOUP', 'GNIST', 'Biba', 'RAISIN', 'AASK',\n",
       "       'FABNEST', 'Signature Sole', 'Batman', 'STAR WARS', 'SWAROVSKI',\n",
       "       'FUGAZEE', 'KAMA AYURVEDA', 'ADIDAS Originals', 'Fusion Beats',\n",
       "       'bodha', 'Peora', 'Amante', 'naughty ninos', 'Rajesh Silk Mills',\n",
       "       'ADIDAS', 'Allen Solly Sport', 'Krafted with Happiness',\n",
       "       'Golden Girl', 'RUGSMITH', 'SKAGEN', 'Masculino Latino',\n",
       "       'Lychee bags', 'Ira Soleil', 'CORSICA', 'Instacrush',\n",
       "       'SCUDERIA FERRARI', 'Superman', 'DailyObjects', 'The Dry State',\n",
       "       'Makeup Revolution London', 'Orange and Orchid', 'CAPTAIN AMERICA',\n",
       "       'Teakwood Leathers', 'Ponds', 'Inc 5', 'EK DO DHAI', 'Natilene',\n",
       "       'OBOW', 'Basics', 'ESBEDA', 'TAG EYE', 'Proline Active',\n",
       "       'FableStreet', 'amraoo', 'Varkala Silk Sarees', 'LilPicks',\n",
       "       'Lacoste', 'Purple Feather', 'FURO by Red Chief', 'WESTCLO',\n",
       "       'FOREVER 21', 'Barbie by Many Frocks &', 'Khushal K',\n",
       "       'Rangoli Jaipur', 'I AM FOR YOU', 'Soulflower',\n",
       "       'Allen Solly Junior', 'Hubberholme', 'BOLLYGLOW', 'Braun',\n",
       "       'DUGRISTYLE', 'HUNTER 1114', 'FILA', 'Vastraa Fusion', 'Renka',\n",
       "       'U.S. Polo Assn. Women', 'Antheaa', 'Tikhi Imli', 'Wear Your Mind',\n",
       "       'Moon Dust', 'Philips', 'AWW HUNNIE', 'Purple State', 'Kidling',\n",
       "       'Twisha', 'Genius18', 'Pepe Jeans', 'Plum', 'Lapis O Lupo',\n",
       "       'SHINGORA', 'Lino Perros', 'Revlon', 'MomToBe', 'DEYANN',\n",
       "       'Nauti Nati', 'FLAVIDO', 'QUIERO', 'Inddus', 'Laceandme',\n",
       "       'Maybelline', 'STREET 9', 'Rain & Rainbow', 'Campana', 'ToniQ',\n",
       "       'OSHKOSH Bgosh', 'Qurvii', 'ULRIC DE VARENS', 'BUKKUM', 'KID1',\n",
       "       'Hidesign', 'Sonari', 'Wrangler', 'Ives', 'Noble Faith', 'PURYS',\n",
       "       'BEAT LONDON by PEPE JEANS', 'Chopard', 'House of Pataudi', 'INVU',\n",
       "       'CAT', 'ESPRIT', 'PRITA', 'Satrani', '109F', 'SWISS MILITARY',\n",
       "       'Carven', 'Stupid Cupid'], dtype=object)"
      ]
     },
     "execution_count": 15,
     "metadata": {},
     "output_type": "execute_result"
    }
   ],
   "source": [
    "data['ProductBrand'].unique()"
   ]
  },
  {
   "cell_type": "code",
   "execution_count": 16,
   "id": "2a555540",
   "metadata": {},
   "outputs": [
    {
     "data": {
      "text/plain": [
       "677"
      ]
     },
     "execution_count": 16,
     "metadata": {},
     "output_type": "execute_result"
    }
   ],
   "source": [
    "data['ProductBrand'].nunique()"
   ]
  },
  {
   "cell_type": "markdown",
   "id": "61a136bb",
   "metadata": {},
   "source": [
    "# let’s checkout what are the different types of categories in Gender column."
   ]
  },
  {
   "cell_type": "code",
   "execution_count": 17,
   "id": "6522f89a",
   "metadata": {},
   "outputs": [
    {
     "data": {
      "text/plain": [
       "array(['Unisex', 'Women', 'Men', 'Boys', 'Girls', 'Unisex Kids'],\n",
       "      dtype=object)"
      ]
     },
     "execution_count": 17,
     "metadata": {},
     "output_type": "execute_result"
    }
   ],
   "source": [
    "data['Gender'].unique()"
   ]
  },
  {
   "cell_type": "markdown",
   "id": "61891bf9",
   "metadata": {},
   "source": [
    "# Find the maximum value in the 'Price (INR)' column"
   ]
  },
  {
   "cell_type": "code",
   "execution_count": 18,
   "id": "73423687",
   "metadata": {},
   "outputs": [
    {
     "name": "stdout",
     "output_type": "stream",
     "text": [
      "Maximum Price (INR): 63090\n"
     ]
    }
   ],
   "source": [
    "max_price = data['Price (INR)'].max()\n",
    "\n",
    "print(\"Maximum Price (INR):\", max_price)"
   ]
  },
  {
   "cell_type": "markdown",
   "id": "748ad9b4",
   "metadata": {},
   "source": [
    "#  Find the minimum value in the 'Price (INR)' column"
   ]
  },
  {
   "cell_type": "code",
   "execution_count": 19,
   "id": "7e44236a",
   "metadata": {},
   "outputs": [
    {
     "name": "stdout",
     "output_type": "stream",
     "text": [
      "Minimum Price (INR): 90\n"
     ]
    }
   ],
   "source": [
    "mini_price = data['Price (INR)'].min()\n",
    "\n",
    "print(\"Minimum Price (INR):\", mini_price)"
   ]
  },
  {
   "cell_type": "markdown",
   "id": "771eeb84",
   "metadata": {},
   "source": [
    "# Mean Price ."
   ]
  },
  {
   "cell_type": "code",
   "execution_count": 20,
   "id": "c60a7cb0",
   "metadata": {},
   "outputs": [
    {
     "name": "stdout",
     "output_type": "stream",
     "text": [
      "Mean Price : 1452.6609558882396\n"
     ]
    }
   ],
   "source": [
    "mean_price = data['Price (INR)'].mean()\n",
    "print(\"Mean Price :\", mean_price)"
   ]
  },
  {
   "cell_type": "markdown",
   "id": "0cafa9f4",
   "metadata": {},
   "source": [
    "#  Data Visualization . "
   ]
  },
  {
   "cell_type": "code",
   "execution_count": 21,
   "id": "2ed54d55",
   "metadata": {},
   "outputs": [
    {
     "data": {
      "text/html": [
       "<div>\n",
       "<style scoped>\n",
       "    .dataframe tbody tr th:only-of-type {\n",
       "        vertical-align: middle;\n",
       "    }\n",
       "\n",
       "    .dataframe tbody tr th {\n",
       "        vertical-align: top;\n",
       "    }\n",
       "\n",
       "    .dataframe thead th {\n",
       "        text-align: right;\n",
       "    }\n",
       "</style>\n",
       "<table border=\"1\" class=\"dataframe\">\n",
       "  <thead>\n",
       "    <tr style=\"text-align: right;\">\n",
       "      <th></th>\n",
       "      <th>ProductID</th>\n",
       "      <th>ProductName</th>\n",
       "      <th>ProductBrand</th>\n",
       "      <th>Gender</th>\n",
       "      <th>Price (INR)</th>\n",
       "      <th>NumImages</th>\n",
       "      <th>Description</th>\n",
       "      <th>PrimaryColor</th>\n",
       "    </tr>\n",
       "  </thead>\n",
       "  <tbody>\n",
       "    <tr>\n",
       "      <th>0</th>\n",
       "      <td>10017413</td>\n",
       "      <td>DKNY Unisex Black &amp; Grey Printed Medium Trolle...</td>\n",
       "      <td>DKNY</td>\n",
       "      <td>Unisex</td>\n",
       "      <td>11745</td>\n",
       "      <td>7</td>\n",
       "      <td>Black and grey printed medium trolley bag, sec...</td>\n",
       "      <td>Black</td>\n",
       "    </tr>\n",
       "    <tr>\n",
       "      <th>1</th>\n",
       "      <td>10016283</td>\n",
       "      <td>EthnoVogue Women Beige &amp; Grey Made to Measure ...</td>\n",
       "      <td>EthnoVogue</td>\n",
       "      <td>Women</td>\n",
       "      <td>5810</td>\n",
       "      <td>7</td>\n",
       "      <td>Beige &amp; Grey made to measure kurta with churid...</td>\n",
       "      <td>Beige</td>\n",
       "    </tr>\n",
       "  </tbody>\n",
       "</table>\n",
       "</div>"
      ],
      "text/plain": [
       "   ProductID                                        ProductName ProductBrand  \\\n",
       "0   10017413  DKNY Unisex Black & Grey Printed Medium Trolle...         DKNY   \n",
       "1   10016283  EthnoVogue Women Beige & Grey Made to Measure ...   EthnoVogue   \n",
       "\n",
       "   Gender  Price (INR)  NumImages  \\\n",
       "0  Unisex        11745          7   \n",
       "1   Women         5810          7   \n",
       "\n",
       "                                         Description PrimaryColor  \n",
       "0  Black and grey printed medium trolley bag, sec...        Black  \n",
       "1  Beige & Grey made to measure kurta with churid...        Beige  "
      ]
     },
     "execution_count": 21,
     "metadata": {},
     "output_type": "execute_result"
    }
   ],
   "source": [
    "data.head(2)"
   ]
  },
  {
   "cell_type": "code",
   "execution_count": 22,
   "id": "79399015",
   "metadata": {},
   "outputs": [
    {
     "data": {
      "text/plain": [
       "<AxesSubplot:title={'center':'Top 10 popular brands'}>"
      ]
     },
     "execution_count": 22,
     "metadata": {},
     "output_type": "execute_result"
    },
    {
     "data": {
      "image/png": "[encoded data removed]",
      "text/plain": [
       "<Figure size 432x288 with 1 Axes>"
      ]
     },
     "metadata": {
      "needs_background": "light"
     },
     "output_type": "display_data"
    }
   ],
   "source": [
    "data.ProductBrand.value_counts()[0:10].plot(kind = 'bar', title = 'Top 10 popular brands')"
   ]
  },
  {
   "cell_type": "code",
   "execution_count": 23,
   "id": "bcb6ba43",
   "metadata": {},
   "outputs": [],
   "source": [
    "df = data.groupby('ProductBrand')['Price (INR)'].mean().sort_values(ascending = False).head(10)"
   ]
  },
  {
   "cell_type": "code",
   "execution_count": 24,
   "id": "9b66eda7",
   "metadata": {},
   "outputs": [
    {
     "data": {
      "text/plain": [
       "<AxesSubplot:xlabel='ProductBrand'>"
      ]
     },
     "execution_count": 24,
     "metadata": {},
     "output_type": "execute_result"
    },
    {
     "data": {
      "image/png": "[encoded data removed]",
      "text/plain": [
       "<Figure size 432x288 with 1 Axes>"
      ]
     },
     "metadata": {
      "needs_background": "light"
     },
     "output_type": "display_data"
    }
   ],
   "source": [
    "df.plot.bar()"
   ]
  },
  {
   "cell_type": "code",
   "execution_count": 25,
   "id": "54b7eefa",
   "metadata": {},
   "outputs": [
    {
     "data": {
      "text/plain": [
       "<AxesSubplot:ylabel='ProductID'>"
      ]
     },
     "execution_count": 25,
     "metadata": {},
     "output_type": "execute_result"
    },
    {
     "data": {
      "image/png": "[encoded data removed]",
      "text/plain": [
       "<Figure size 432x288 with 1 Axes>"
      ]
     },
     "metadata": {},
     "output_type": "display_data"
    }
   ],
   "source": [
    "data.groupby('Gender')['ProductID'].count().plot.pie(autopct=\"1.1f%%\")"
   ]
  },
  {
   "cell_type": "markdown",
   "id": "fc49492f",
   "metadata": {},
   "source": [
    "# Next we will checkout most preferrable colors"
   ]
  },
  {
   "cell_type": "code",
   "execution_count": 26,
   "id": "e1433b8a",
   "metadata": {},
   "outputs": [
    {
     "data": {
      "text/plain": [
       "<AxesSubplot:title={'center':'Top 10 Primary Colors'}>"
      ]
     },
     "execution_count": 26,
     "metadata": {},
     "output_type": "execute_result"
    },
    {
     "data": {
      "image/png": "[encoded data removed]",
      "text/plain": [
       "<Figure size 432x288 with 1 Axes>"
      ]
     },
     "metadata": {
      "needs_background": "light"
     },
     "output_type": "display_data"
    }
   ],
   "source": [
    "data.PrimaryColor.value_counts()[0:10].plot(kind = 'bar', title = 'Top 10 Primary Colors')"
   ]
  },
  {
   "cell_type": "code",
   "execution_count": null,
   "id": "106a3e8a",
   "metadata": {},
   "outputs": [],
   "source": []
  }
 ],
 "metadata": {
  "kernelspec": {
   "display_name": "Python 3 (ipykernel)",
   "language": "python",
   "name": "python3"
  },
  "language_info": {
   "codemirror_mode": {
    "name": "ipython",
    "version": 3
   },
   "file_extension": ".py",
   "mimetype": "text/x-python",
   "name": "python",
   "nbconvert_exporter": "python",
   "pygments_lexer": "ipython3",
   "version": "3.9.7"
  }
 },
 "nbformat": 4,
 "nbformat_minor": 5
}
